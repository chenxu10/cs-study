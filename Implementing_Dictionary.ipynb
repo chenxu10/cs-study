{
 "cells": [
  {
   "cell_type": "code",
   "execution_count": 1,
   "metadata": {},
   "outputs": [],
   "source": [
    "# Motivation to Build a Dictionary Data Type\n",
    "\n",
    "## Docdist: Comptuting common words for two documents/How to do spell correction \n",
    "## Database: Those use dictionaries and Those use Search Trees"
   ]
  },
  {
   "cell_type": "code",
   "execution_count": 1,
   "metadata": {},
   "outputs": [],
   "source": [
    "# Simple Approach\n",
    "\n",
    "## Direct access table\n",
    "### Step1: store things in an array indexed by key\n",
    "\n",
    "#### Badness1:keys may be not integers--(归约的思想方法)Solution: Prehash--map whatever keys to non negative integers\n",
    "    ### In theory, keys are finite and discrete\n",
    "    ### In pratice, hash(x) \n",
    "#### Badness2:Gigantic memory: Hashing and how to reduce the space\n",
    "    ### containing the linkedlist"
   ]
  },
  {
   "cell_type": "code",
   "execution_count": 3,
   "metadata": {},
   "outputs": [],
   "source": [
    "## solev problem one: turn the string keys into a index in the array\n",
    "def hash(astring,tablesize):\n",
    "    sum=0\n",
    "    for i in range(len(astring)):\n",
    "        sum=sum+ord(astring[i])\n",
    "    return sum%tablesize\n",
    "\n",
    "## solve problem two: collision resolution(using chaining techniques)"
   ]
  },
  {
   "cell_type": "code",
   "execution_count": null,
   "metadata": {},
   "outputs": [],
   "source": [
    "class Hash(object):    \n",
    "    def __init__(self):\n",
    "        \n",
    "        \n",
    "    def delete():\n",
    "        pass\n",
    "    def insert():\n",
    "        pass\n",
    "    def search():\n",
    "        pass"
   ]
  }
 ],
 "metadata": {
  "kernelspec": {
   "display_name": "Python 3",
   "language": "python",
   "name": "python3"
  },
  "language_info": {
   "codemirror_mode": {
    "name": "ipython",
    "version": 3
   },
   "file_extension": ".py",
   "mimetype": "text/x-python",
   "name": "python",
   "nbconvert_exporter": "python",
   "pygments_lexer": "ipython3",
   "version": "3.6.4"
  }
 },
 "nbformat": 4,
 "nbformat_minor": 2
}
