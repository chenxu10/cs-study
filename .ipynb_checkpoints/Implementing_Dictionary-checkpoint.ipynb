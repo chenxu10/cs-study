{
 "cells": [
  {
   "cell_type": "code",
   "execution_count": 1,
   "metadata": {},
   "outputs": [],
   "source": [
    "# Motivation to Build a Dictionary Data Type\n",
    "\n",
    "## Docdist: Comptuting common words for two documents/How to do spell correction \n",
    "## Database: Those use dictionaries and Those use Search Trees"
   ]
  },
  {
   "cell_type": "code",
   "execution_count": 1,
   "metadata": {},
   "outputs": [],
   "source": [
    "# Simple Approach\n",
    "\n",
    "## Direct access table\n",
    "### Step1: store things in an array indexed by key\n",
    "\n",
    "#### Badness1:keys may be not integers--(归约的思想方法)Solution: Prehash--map whatever keys to non negative integers\n",
    "    ### In theory, keys are finite and discrete\n",
    "    ### In pratice, hash(x) \n",
    "#### Badness2:Gigantic memory: Hashing and how to reduce the space\n",
    "    ### containing the linkedlist"
   ]
  },
  {
   "cell_type": "markdown",
   "metadata": {},
   "source": [
    "Three components of Hash Map\n",
    "+ An array \n",
    "+ A hash function to convert key into an array index\n",
    "+ Collision handling"
   ]
  },
  {
   "cell_type": "code",
   "execution_count": 59,
   "metadata": {},
   "outputs": [],
   "source": [
    "# Implementing Code\n",
    "class HashMap():\n",
    "    def __init__(self):\n",
    "        self.size=6\n",
    "        self.map=[None]*self.size\n",
    "        \n",
    "    # calculating the index for the key and return the index\n",
    "    def gethash(self,key):\n",
    "        hashvar=0\n",
    "        for char in str(key):\n",
    "            hashvar+=ord(char)\n",
    "        return hashvar % self.size\n",
    "            \n",
    "    def add(self,key,value):\n",
    "        key_hash=self.gethash(key)\n",
    "        key_value=[key,value]\n",
    "        \n",
    "        # check whether the cell of the array is empty\n",
    "        if self.map[key_hash] is None:\n",
    "            self.map[key_hash]=list([key_value])\n",
    "            return True\n",
    "        else:\n",
    "            for pair in self.map[key_hash]:\n",
    "                if pair[0]==key:\n",
    "                    pair[1]=value\n",
    "                    return True\n",
    "            self.map[key_hash].append(key_value)\n",
    "            return True      \n",
    "    \n",
    "    def get(self,key):\n",
    "        key_hash=self.gethash(key)\n",
    "        if self.map[key_hash] is not None:\n",
    "            for pair in self.map[key_hash]:\n",
    "                if pair[0]==key:\n",
    "                    return pair[1]\n",
    "        return None                  \n",
    "    \n",
    "    def delete(self,key):\n",
    "        key_hash=self.gethash(key)\n",
    "        if self.map[key_hash] is None:\n",
    "            return False\n",
    "  \n",
    "        for i in range(0,len(self.map[key_hash])):\n",
    "            if self.map[key_hash][i][0]==key:\n",
    "                self.map[key_hash].pop(i)\n",
    "                return True\n",
    "        return False\n",
    "        \n",
    "    \n",
    "    def print(self):\n",
    "        print('----------')\n",
    "        for item in self.map:\n",
    "            if item is not None:\n",
    "                print(str(item))"
   ]
  },
  {
   "cell_type": "code",
   "execution_count": 66,
   "metadata": {},
   "outputs": [
    {
     "name": "stdout",
     "output_type": "stream",
     "text": [
      "----------\n",
      "[['Mike', '567-2188']]\n",
      "[['Alicia', '632-4123']]\n",
      "[['Aditya', '777-8888']]\n",
      "[['Bob', '567-8888'], ['Ming', '333-8233'], ['Ankit', '293-8625']]\n",
      "----------\n",
      "[['Mike', '567-2188']]\n",
      "[['Alicia', '632-4123']]\n",
      "[['Aditya', '777-8888']]\n",
      "[['Ming', '333-8233'], ['Ankit', '293-8625']]\n",
      "Ming: 333-8233\n"
     ]
    }
   ],
   "source": [
    "# Testing code\n",
    "h = HashMap()\n",
    "h.add('Bob', '567-8888')\n",
    "h.add('Ming', '293-6753')\n",
    "h.add('Ming', '333-8233')\n",
    "h.add('Ankit', '293-8625')\n",
    "h.add('Aditya', '852-6551')\n",
    "h.add('Alicia', '632-4123')\n",
    "h.add('Mike', '567-2188')\n",
    "h.add('Aditya', '777-8888')\n",
    "h.print()\n",
    "h.delete('Bob')\n",
    "h.print()\n",
    "print('Ming: ' + h.get('Ming'))"
   ]
  }
 ],
 "metadata": {
  "kernelspec": {
   "display_name": "Python 3",
   "language": "python",
   "name": "python3"
  },
  "language_info": {
   "codemirror_mode": {
    "name": "ipython",
    "version": 3
   },
   "file_extension": ".py",
   "mimetype": "text/x-python",
   "name": "python",
   "nbconvert_exporter": "python",
   "pygments_lexer": "ipython3",
   "version": "3.6.4"
  }
 },
 "nbformat": 4,
 "nbformat_minor": 2
}
